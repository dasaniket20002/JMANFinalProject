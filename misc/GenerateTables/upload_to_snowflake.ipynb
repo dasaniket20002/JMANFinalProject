{
 "cells": [
  {
   "cell_type": "code",
   "execution_count": 22,
   "metadata": {},
   "outputs": [
    {
     "data": {
      "text/plain": [
       "True"
      ]
     },
     "execution_count": 22,
     "metadata": {},
     "output_type": "execute_result"
    }
   ],
   "source": [
    "import snowflake.connector as snwconn\n",
    "from snowflake.connector.pandas_tools import write_pandas\n",
    "\n",
    "import pandas as pd\n",
    "import os\n",
    "from dotenv import load_dotenv\n",
    "\n",
    "load_dotenv()"
   ]
  },
  {
   "cell_type": "code",
   "execution_count": 23,
   "metadata": {},
   "outputs": [],
   "source": [
    "conn_params = {\n",
    "    'account': os.getenv('SNW_ACCOUNT').replace('.', '-'),\n",
    "    'user': os.getenv('SNW_USERNAME'),\n",
    "    'password': os.getenv('SNW_PASS'),\n",
    "    'warehouse': 'COMPUTE_WH',\n",
    "    'database': 'JMAN_FINAL_PROJECT',\n",
    "    'schema': 'DBO'\n",
    "}"
   ]
  },
  {
   "cell_type": "code",
   "execution_count": 24,
   "metadata": {},
   "outputs": [],
   "source": [
    "conn = snwconn.connect(**conn_params)\n",
    "cursor = conn.cursor()"
   ]
  },
  {
   "cell_type": "code",
   "execution_count": 25,
   "metadata": {},
   "outputs": [],
   "source": [
    "def _upload_table(table_name, df):\n",
    "\n",
    "    df.columns = map(lambda x: str(x).upper(), df.columns)\n",
    "    df_schema = pd.io.sql.get_schema(df, table_name)\n",
    "    df_schema = str(df_schema).replace('CREATE', 'CREATE OR REPLACE').replace(' TEXT', ' VARCHAR(5000)').replace(' REAL', ' VARCHAR(5000)')\n",
    "\n",
    "    # print('Executing: \\n' + df_schema)\n",
    "    cursor.execute(df_schema)\n",
    "\n",
    "    success, _, nrows, _ = write_pandas(conn, df, table_name)\n",
    "    print(f\"table: {table_name:25s} | status: {str(success):5s} | rows: {nrows:5d}\\n\")"
   ]
  },
  {
   "cell_type": "code",
   "execution_count": 26,
   "metadata": {},
   "outputs": [],
   "source": [
    "users_df = pd.read_csv('csvs/users.csv')\n",
    "project_df = pd.read_csv('csvs/projects.csv')\n",
    "feedbackQuestion_df = pd.read_csv('csvs/feedbackQuestions.csv')\n",
    "projectsToUsers_df = pd.read_csv('csvs/projectsToUsers.csv')\n",
    "projectsToFeedbackQuestions_df = pd.read_csv('csvs/projectsToFeedbackQuestions.csv')\n",
    "timesheets_df = pd.read_csv('csvs/timesheets.csv')\n",
    "feedbackAnswers_df = pd.read_csv('csvs/feedbackAnswers.csv')"
   ]
  },
  {
   "cell_type": "code",
   "execution_count": 27,
   "metadata": {},
   "outputs": [
    {
     "name": "stdout",
     "output_type": "stream",
     "text": [
      "table: USERS                     | status: True  | rows:  5000\n",
      "\n",
      "table: PROJECTS                  | status: True  | rows:    50\n",
      "\n",
      "table: FEEDBACKQUESTIONS         | status: True  | rows:    20\n",
      "\n",
      "table: PROJECTSTOUSERS           | status: True  | rows: 127278\n",
      "\n",
      "table: PROJECTSTOFEEDBACKQUESTIONS | status: True  | rows:   521\n",
      "\n",
      "table: TIMESHEETS                | status: True  | rows: 170858\n",
      "\n",
      "table: FEEDBACKANSWERS           | status: True  | rows:  8000\n",
      "\n"
     ]
    }
   ],
   "source": [
    "_upload_table('USERS', users_df)\n",
    "_upload_table('PROJECTS', project_df)\n",
    "_upload_table('FEEDBACKQUESTIONS', feedbackQuestion_df)\n",
    "_upload_table('PROJECTSTOUSERS', projectsToUsers_df)\n",
    "_upload_table('PROJECTSTOFEEDBACKQUESTIONS', projectsToFeedbackQuestions_df)\n",
    "_upload_table('TIMESHEETS', timesheets_df)\n",
    "_upload_table('FEEDBACKANSWERS', feedbackAnswers_df)"
   ]
  },
  {
   "cell_type": "code",
   "execution_count": 28,
   "metadata": {},
   "outputs": [],
   "source": [
    "cursor.close()\n",
    "conn.close()"
   ]
  }
 ],
 "metadata": {
  "kernelspec": {
   "display_name": "Python 3",
   "language": "python",
   "name": "python3"
  },
  "language_info": {
   "codemirror_mode": {
    "name": "ipython",
    "version": 3
   },
   "file_extension": ".py",
   "mimetype": "text/x-python",
   "name": "python",
   "nbconvert_exporter": "python",
   "pygments_lexer": "ipython3",
   "version": "3.12.0"
  }
 },
 "nbformat": 4,
 "nbformat_minor": 2
}
